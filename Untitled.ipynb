{
 "cells": [
  {
   "cell_type": "code",
   "execution_count": null,
   "id": "356b907a-c57b-41d7-860a-fc6741800f08",
   "metadata": {
    "scrolled": true
   },
   "outputs": [],
   "source": [
    "input(\"\\n\\n按下 enter 键后退出。\")\n"
   ]
  },
  {
   "cell_type": "code",
   "execution_count": null,
   "id": "9b651200-912c-4636-88fa-c8f84c2f46e8",
   "metadata": {},
   "outputs": [],
   "source": [
    "print (\"我叫 %s 今年 %d 岁!\" % ('小明', 10))\n",
    "print('my\\tname\\tis\\tlee')"
   ]
  },
  {
   "cell_type": "code",
   "execution_count": null,
   "id": "d552790f-632b-414b-a5ab-b9b4aea17400",
   "metadata": {},
   "outputs": [],
   "source": [
    "str = 'i love my motherland'\n",
    "suffix = 'andd'\n",
    "print(str + suffix)\n",
    "print('i love my motherland'.capitalize())\n",
    "print('i love my motherland'.count('o', 5, 12))\n",
    "print(str.endswith(suffix, -10))"
   ]
  },
  {
   "cell_type": "code",
   "execution_count": null,
   "id": "9989f1fc-d8d8-4824-92f8-982d3ed16694",
   "metadata": {},
   "outputs": [],
   "source": [
    "len('i have occupied the land')"
   ]
  },
  {
   "cell_type": "code",
   "execution_count": 9,
   "id": "1c77dfc1-9bfb-42c1-b900-05bdc8be4c83",
   "metadata": {},
   "outputs": [
    {
     "name": "stdout",
     "output_type": "stream",
     "text": [
      "e\n",
      "b\n",
      "['a', 'b', 'c', 'd', 'f', 'name']\n"
     ]
    }
   ],
   "source": [
    "list = ['a', 'b', 'c', 'd', 'e', 'f']\n",
    "print(list.pop(-2))\n",
    "print(list[1])\n",
    "\n",
    "list.extend({'name': 'lily'})\n",
    "print(list)"
   ]
  },
  {
   "cell_type": "code",
   "execution_count": null,
   "id": "5040fff0-bc8f-4592-a07c-aa561ba25dfa",
   "metadata": {},
   "outputs": [],
   "source": [
    "str = 'abcdef'\n",
    "str += 'g'\n",
    "print(str)"
   ]
  },
  {
   "cell_type": "code",
   "execution_count": null,
   "id": "aa8c1e74-0e8d-4203-ae37-36c426654d33",
   "metadata": {},
   "outputs": [],
   "source": [
    "tinydict = {'name': 'MMM', 'age': 111 }\n",
    "type(tinydict)\n",
    "'name' in tinydict\n",
    "print(tinydict.items())"
   ]
  },
  {
   "cell_type": "code",
   "execution_count": null,
   "id": "3939ebc9-d2e1-4c4a-867a-9a98b9d804b6",
   "metadata": {},
   "outputs": [],
   "source": [
    "confusion = {}\n",
    "confusion[1] = 1\n",
    "confusion['1'] = 2\n",
    "confusion[1] += 1\n",
    "\n",
    "sum = 0\n",
    "for k in confusion:\n",
    "    sum += confusion[k]\n",
    "\n",
    "print(sum)\n"
   ]
  },
  {
   "cell_type": "code",
   "execution_count": null,
   "id": "3b027d76-5d93-4f5a-9df2-63519c88c131",
   "metadata": {},
   "outputs": [],
   "source": [
    "dict1 =  {'user':'runoob','num':[1,2,3]}\n",
    "dict1['num'].remove(1)\n",
    "print(dict1)\n",
    "dict1"
   ]
  },
  {
   "cell_type": "code",
   "execution_count": 87,
   "id": "fe51bc77-0535-4587-8716-75cd123d26e2",
   "metadata": {},
   "outputs": [
    {
     "name": "stdout",
     "output_type": "stream",
     "text": [
      "{1: [1, 2, 3]} {1: [1, 2, 3]} {1: [1, 2, 3]}\n",
      "{1: [2, 3, 4]} {1: [2, 3, 4]} {1: [2, 3, 4]}\n",
      "[2, 3, 4]\n",
      "{2: [5]} {1: [2, 3, 4]} {2: [5]}\n"
     ]
    }
   ],
   "source": [
    "a = {1: [1,2,3]}\n",
    "b = a.copy()\n",
    "c = a\n",
    "\n",
    "print(a, b, c)\n",
    "\n",
    "a[1].append(4)\n",
    "a[1].remove(1)\n",
    "print(a, b, c)\n",
    "\n",
    "\n",
    "a.update({2: [5]})\n",
    "#b.pop(1, 'default')\n",
    "#c.pop(1, 'default')\n",
    "print(a.pop(1, 'default'))\n",
    "print(a, b, c)\n"
   ]
  },
  {
   "cell_type": "code",
   "execution_count": 35,
   "id": "408c781a-fc2e-4ebf-9da7-c00825a53df3",
   "metadata": {},
   "outputs": [
    {
     "name": "stdout",
     "output_type": "stream",
     "text": [
      "{1: [1, 2, 3]} {1: [1, 2, 3]}\n",
      "{1: [1, 2, 3, 5]} {1: [1, 2, 3]}\n",
      "{} {1: [1, 2, 3]}\n"
     ]
    }
   ],
   "source": [
    "a = {1: [1,2,3]}\n",
    "import copy\n",
    "c = copy.deepcopy(a)\n",
    "print(a, c)\n",
    "\n",
    "a[1].append(5)\n",
    "print(a, c)\n",
    "\n",
    "a.pop(1, 'default')\n",
    "print(a, c)"
   ]
  },
  {
   "cell_type": "code",
   "execution_count": 80,
   "id": "22e80822-ef86-4e33-89f4-a2aab31d1873",
   "metadata": {},
   "outputs": [
    {
     "name": "stdout",
     "output_type": "stream",
     "text": [
      "{1, 2, 3, 4, 5, 6} {1, 2, 3, 4, 5, 6, 7} {2, 3, 4, 5, 6}\n",
      "{7}\n"
     ]
    }
   ],
   "source": [
    "set = {1, 2, 3, 4, 5, 6}\n",
    "set1 = set.copy()\n",
    "set1.add(7)\n",
    "set2 = set1.copy()\n",
    "set2.remove(7)\n",
    "set2.remove(1)\n",
    "print(set, set1, set2)\n",
    "print(set1.difference(set, set2))\n",
    "set.isdisjoint(set1)"
   ]
  },
  {
   "cell_type": "code",
   "execution_count": null,
   "id": "439093ed-296e-4128-913c-fe2dba6330bc",
   "metadata": {},
   "outputs": [],
   "source": []
  },
  {
   "cell_type": "code",
   "execution_count": null,
   "id": "170f6338-3535-427b-84a6-bfea2e4fc99c",
   "metadata": {},
   "outputs": [],
   "source": []
  }
 ],
 "metadata": {
  "kernelspec": {
   "display_name": "Python 3 (ipykernel)",
   "language": "python",
   "name": "python3"
  },
  "language_info": {
   "codemirror_mode": {
    "name": "ipython",
    "version": 3
   },
   "file_extension": ".py",
   "mimetype": "text/x-python",
   "name": "python",
   "nbconvert_exporter": "python",
   "pygments_lexer": "ipython3",
   "version": "3.12.4"
  }
 },
 "nbformat": 4,
 "nbformat_minor": 5
}
